{
 "cells": [
  {
   "cell_type": "code",
   "execution_count": 2,
   "id": "f88650de",
   "metadata": {},
   "outputs": [
    {
     "name": "stdout",
     "output_type": "stream",
     "text": [
      "2024-01-01T00:00:00\n",
      "     Id  IndicadorId        Nombre                                                                                        Descripcion               Fecha   Valor\n",
      "2135312          141 ESR-PIBA-01-2 ESR-PIBA-01 - Corrientes - Rama de Actividad Económica - Actividades Inmobiliarias y Empresariales 2024-01-01T00:00:00 42934.1\n"
     ]
    }
   ],
   "source": [
    "import requests\n",
    "import pandas as pd\n",
    "from Clave import APIKEY\n",
    "\n",
    "\n",
    "indicadorID=141\n",
    "\n",
    "FechaInicio=\"2024-01-01T00:00:00\"\n",
    "print(FechaInicio)\n",
    "\n",
    "url= f\"https://bchapi-am.azure-api.net/api/v1/indicadores/{indicadorID}/cifras\"\n",
    "\n",
    "params={\n",
    "    \"fechainicio\":FechaInicio\n",
    "    }\n",
    "\n",
    "\n",
    "headers = {\n",
    "    \"clave\" : APIKEY,\n",
    "    \"Conten-Type\": \"application/json\",\n",
    "}\n",
    "\n",
    "response = requests.get(url, headers=headers, params=params)\n",
    "\n",
    "\n",
    "if response.status_code == 200:\n",
    "    datos = response.json()\n",
    "    ##for indicador in datos:\n",
    "        ##print(indicador)\n",
    "    df=pd.DataFrame(datos)\n",
    "    print(df.to_string(index=False))\n",
    "    \n",
    "else:\n",
    "    print(f\"Error {response.status_code}: {response.text}\")"
   ]
  }
 ],
 "metadata": {
  "kernelspec": {
   "display_name": "Python 3",
   "language": "python",
   "name": "python3"
  },
  "language_info": {
   "codemirror_mode": {
    "name": "ipython",
    "version": 3
   },
   "file_extension": ".py",
   "mimetype": "text/x-python",
   "name": "python",
   "nbconvert_exporter": "python",
   "pygments_lexer": "ipython3",
   "version": "3.13.0"
  }
 },
 "nbformat": 4,
 "nbformat_minor": 5
}
