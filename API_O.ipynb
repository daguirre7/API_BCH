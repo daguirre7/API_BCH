{
 "cells": [
  {
   "cell_type": "code",
   "execution_count": 3,
   "id": "f88650de",
   "metadata": {},
   "outputs": [
    {
     "name": "stdout",
     "output_type": "stream",
     "text": [
      "2025-01-01T00:00:00\n",
      "        Id  IndicadorId       Nombre                       Descripcion  \\\n",
      "0  2511379          609  EP-IPC-01-2  EP-IPC-01 - Variación interanual   \n",
      "1  2338032          609  EP-IPC-01-2  EP-IPC-01 - Variación interanual   \n",
      "2  2164550          609  EP-IPC-01-2  EP-IPC-01 - Variación interanual   \n",
      "3  1990522          609  EP-IPC-01-2  EP-IPC-01 - Variación interanual   \n",
      "4  1829966          609  EP-IPC-01-2  EP-IPC-01 - Variación interanual   \n",
      "\n",
      "                 Fecha  Valor  \n",
      "0  2025-05-01T00:00:00   4.54  \n",
      "1  2025-04-01T00:00:00   4.39  \n",
      "2  2025-03-01T00:00:00   4.49  \n",
      "3  2025-02-01T00:00:00   4.75  \n",
      "4  2025-01-01T00:00:00   4.27  \n"
     ]
    }
   ],
   "source": [
    "import requests\n",
    "import pandas as pd\n",
    "from Clave import APIKEY\n",
    "indicadorID=609\n",
    "FechaInicio=\"2025-01-01T00:00:00\"\n",
    "print(FechaInicio)\n",
    "## url= f\"https://bchapi-am.azure-api.net/api/v1/indicadores/{indicadorID}/cifras\"\n",
    "url= f\"https://bchapi-am.azure-api.net/api/v1/indicadores/{indicadorID}/cifras\"\n",
    "params={\n",
    "    \"fechainicio\":FechaInicio\n",
    "    }\n",
    "\n",
    "headers = {\n",
    "    \"clave\" : APIKEY,\n",
    "    \"Conten-Type\": \"application/json\",\n",
    "}\n",
    "\n",
    "response = requests.get(url, headers=headers,params=params)\n",
    "\n",
    "\n",
    "if response.status_code == 200:\n",
    "    datos = response.json()\n",
    "    ##for indicador in datos:\n",
    "        ##print(indicador)\n",
    "    df=pd.DataFrame(datos)\n",
    "    print(df)\n",
    "else:\n",
    "    print(f\"Error {response.status_code}: {response.text}\")"
   ]
  }
 ],
 "metadata": {
  "kernelspec": {
   "display_name": "Python 3",
   "language": "python",
   "name": "python3"
  },
  "language_info": {
   "codemirror_mode": {
    "name": "ipython",
    "version": 3
   },
   "file_extension": ".py",
   "mimetype": "text/x-python",
   "name": "python",
   "nbconvert_exporter": "python",
   "pygments_lexer": "ipython3",
   "version": "3.13.0"
  }
 },
 "nbformat": 4,
 "nbformat_minor": 5
}
