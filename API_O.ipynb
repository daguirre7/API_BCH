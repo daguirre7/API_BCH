{
 "cells": [
  {
   "cell_type": "code",
   "execution_count": null,
   "id": "f88650de",
   "metadata": {},
   "outputs": [
    {
     "name": "stdout",
     "output_type": "stream",
     "text": [
      "2025-01-01T00:00:00\n",
      "Error 401: { \"statusCode\": 401, \"message\": \"Access denied due to invalid subscription key. Make sure to provide a valid key for an active subscription.\" }\n"
     ]
    }
   ],
   "source": [
    "import requests\n",
    "import pandas as pd\n",
    "\n",
    "indicadorID=609\n",
    "FechaInicio=\"2025-01-01T00:00:00\"\n",
    "print(FechaInicio)\n",
    "## url= f\"https://bchapi-am.azure-api.net/api/v1/indicadores/{indicadorID}/cifras\"\n",
    "url= f\"https://bchapi-am.azure-api.net/api/v1/indicadores/{indicadorID}/cifras\"\n",
    "params={\n",
    "    \"fechainicio\":FechaInicio\n",
    "    }\n",
    "\n",
    "headers = {\n",
    "    \"clave\" : 'XX',\n",
    "    \"Conten-Type\": \"application/json\",\n",
    "}\n",
    "\n",
    "response = requests.get(url, headers=headers,params=params)\n",
    "\n",
    "\n",
    "if response.status_code == 200:\n",
    "    datos = response.json()\n",
    "    ##for indicador in datos:\n",
    "        ##print(indicador)\n",
    "    df=pd.DataFrame(datos)\n",
    "    print(df)\n",
    "else:\n",
    "    print(f\"Error {response.status_code}: {response.text}\")"
   ]
  }
 ],
 "metadata": {
  "kernelspec": {
   "display_name": "Python 3",
   "language": "python",
   "name": "python3"
  },
  "language_info": {
   "codemirror_mode": {
    "name": "ipython",
    "version": 3
   },
   "file_extension": ".py",
   "mimetype": "text/x-python",
   "name": "python",
   "nbconvert_exporter": "python",
   "pygments_lexer": "ipython3",
   "version": "3.13.0"
  }
 },
 "nbformat": 4,
 "nbformat_minor": 5
}
